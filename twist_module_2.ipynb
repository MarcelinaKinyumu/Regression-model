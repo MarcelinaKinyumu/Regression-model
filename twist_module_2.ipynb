{
 "cells": [
  {
   "cell_type": "markdown",
   "id": "329491b4",
   "metadata": {},
   "source": [
    "# **Insurance cost Prediction**\n",
    "\n",
    "Accurate prediction of healthcare costs is important for optimally managing health costs. In this project, we connected historical data of customer behavior, health history and demographics to estimate the amount of medical insurance charges they are likely going to pay.\n",
    "\n",
    "The dataset used was the Medical Insurance Kaggle dataset (insurance.csv) consisting of the following colunms; Age: Age of primary beneficiary, Sex: Primary beneficiary’s gender, BMI: Body mass index (providing an understanding of the body, weights that are relatively high or low relative to height), Children: Number of children covered by health insurance / Number of dependents, Smoker: Smoking (yes, no), Region: Beneficiary’s residential area in the US (northeast, southeast, southwest, northwest), Charges: Individual medical costs billed by health insurance.\n",
    "\n",
    "This project involved three main stages. First, we created a database to stored the downloded dataset form kaggle. Using the stored dataset, we traing a model to predict the value of the insurance charges based on the other features. Finally, we created an interactive dashboard to visualize the data. \n"
   ]
  },
  {
   "cell_type": "markdown",
   "id": "7991e96f",
   "metadata": {},
   "source": [
    "## **Duilding a Database**\n",
    "\n",
    "In building the database, we used SQLITE3. The datadase was created from the insuranve.csv dataset."
   ]
  },
  {
   "cell_type": "code",
   "execution_count": 1,
   "id": "34d37f82",
   "metadata": {},
   "outputs": [],
   "source": [
    "#importing the libraries\n",
    "import sqlite3\n",
    "import pandas as pd"
   ]
  },
  {
   "cell_type": "markdown",
   "id": "753a4383",
   "metadata": {},
   "source": [
    "### Creating a Table"
   ]
  },
  {
   "cell_type": "code",
   "execution_count": 2,
   "id": "ce7d97b4",
   "metadata": {},
   "outputs": [],
   "source": [
    "# creating a database with sqlite3\n",
    "con = sqlite3.connect('my_data.db') #the database my_data.db created on my local machine\n",
    "cur = con.cursor()"
   ]
  },
  {
   "cell_type": "code",
   "execution_count": 3,
   "id": "2be129f2",
   "metadata": {},
   "outputs": [
    {
     "data": {
      "text/plain": [
       "' Write records stored in a DataFrame to a SQL database. '"
      ]
     },
     "execution_count": 3,
     "metadata": {},
     "output_type": "execute_result"
    }
   ],
   "source": [
    "# load the data into a Pandas DataFrame\n",
    "insurance = pd.read_csv('insurance.csv')\n",
    "\n",
    "# write the data to a sqlite table\n",
    "insurance.to_sql('insurance', con, if_exists='replace', index = False) \n",
    "''' Write records stored in a DataFrame to a SQL database. '''"
   ]
  },
  {
   "cell_type": "code",
   "execution_count": 4,
   "id": "2d2406a3",
   "metadata": {},
   "outputs": [],
   "source": [
    "con.commit()\n",
    "cur.close()\n",
    "con.close()"
   ]
  },
  {
   "cell_type": "markdown",
   "id": "2717809c",
   "metadata": {},
   "source": [
    "### fetch some Data from the database "
   ]
  },
  {
   "cell_type": "code",
   "execution_count": 5,
   "id": "13ae93f9",
   "metadata": {},
   "outputs": [
    {
     "data": {
      "text/html": [
       "<div>\n",
       "<style scoped>\n",
       "    .dataframe tbody tr th:only-of-type {\n",
       "        vertical-align: middle;\n",
       "    }\n",
       "\n",
       "    .dataframe tbody tr th {\n",
       "        vertical-align: top;\n",
       "    }\n",
       "\n",
       "    .dataframe thead th {\n",
       "        text-align: right;\n",
       "    }\n",
       "</style>\n",
       "<table border=\"1\" class=\"dataframe\">\n",
       "  <thead>\n",
       "    <tr style=\"text-align: right;\">\n",
       "      <th></th>\n",
       "      <th>age</th>\n",
       "      <th>sex</th>\n",
       "      <th>bmi</th>\n",
       "      <th>children</th>\n",
       "      <th>smoker</th>\n",
       "      <th>region</th>\n",
       "      <th>charges</th>\n",
       "    </tr>\n",
       "  </thead>\n",
       "  <tbody>\n",
       "    <tr>\n",
       "      <th>0</th>\n",
       "      <td>19</td>\n",
       "      <td>female</td>\n",
       "      <td>27.900</td>\n",
       "      <td>0</td>\n",
       "      <td>yes</td>\n",
       "      <td>southwest</td>\n",
       "      <td>16884.92400</td>\n",
       "    </tr>\n",
       "    <tr>\n",
       "      <th>1</th>\n",
       "      <td>18</td>\n",
       "      <td>male</td>\n",
       "      <td>33.770</td>\n",
       "      <td>1</td>\n",
       "      <td>no</td>\n",
       "      <td>southeast</td>\n",
       "      <td>1725.55230</td>\n",
       "    </tr>\n",
       "    <tr>\n",
       "      <th>2</th>\n",
       "      <td>28</td>\n",
       "      <td>male</td>\n",
       "      <td>33.000</td>\n",
       "      <td>3</td>\n",
       "      <td>no</td>\n",
       "      <td>southeast</td>\n",
       "      <td>4449.46200</td>\n",
       "    </tr>\n",
       "    <tr>\n",
       "      <th>3</th>\n",
       "      <td>33</td>\n",
       "      <td>male</td>\n",
       "      <td>22.705</td>\n",
       "      <td>0</td>\n",
       "      <td>no</td>\n",
       "      <td>northwest</td>\n",
       "      <td>21984.47061</td>\n",
       "    </tr>\n",
       "    <tr>\n",
       "      <th>4</th>\n",
       "      <td>32</td>\n",
       "      <td>male</td>\n",
       "      <td>28.880</td>\n",
       "      <td>0</td>\n",
       "      <td>no</td>\n",
       "      <td>northwest</td>\n",
       "      <td>3866.85520</td>\n",
       "    </tr>\n",
       "    <tr>\n",
       "      <th>...</th>\n",
       "      <td>...</td>\n",
       "      <td>...</td>\n",
       "      <td>...</td>\n",
       "      <td>...</td>\n",
       "      <td>...</td>\n",
       "      <td>...</td>\n",
       "      <td>...</td>\n",
       "    </tr>\n",
       "    <tr>\n",
       "      <th>1333</th>\n",
       "      <td>50</td>\n",
       "      <td>male</td>\n",
       "      <td>30.970</td>\n",
       "      <td>3</td>\n",
       "      <td>no</td>\n",
       "      <td>northwest</td>\n",
       "      <td>10600.54830</td>\n",
       "    </tr>\n",
       "    <tr>\n",
       "      <th>1334</th>\n",
       "      <td>18</td>\n",
       "      <td>female</td>\n",
       "      <td>31.920</td>\n",
       "      <td>0</td>\n",
       "      <td>no</td>\n",
       "      <td>northeast</td>\n",
       "      <td>2205.98080</td>\n",
       "    </tr>\n",
       "    <tr>\n",
       "      <th>1335</th>\n",
       "      <td>18</td>\n",
       "      <td>female</td>\n",
       "      <td>36.850</td>\n",
       "      <td>0</td>\n",
       "      <td>no</td>\n",
       "      <td>southeast</td>\n",
       "      <td>1629.83350</td>\n",
       "    </tr>\n",
       "    <tr>\n",
       "      <th>1336</th>\n",
       "      <td>21</td>\n",
       "      <td>female</td>\n",
       "      <td>25.800</td>\n",
       "      <td>0</td>\n",
       "      <td>no</td>\n",
       "      <td>southwest</td>\n",
       "      <td>2007.94500</td>\n",
       "    </tr>\n",
       "    <tr>\n",
       "      <th>1337</th>\n",
       "      <td>61</td>\n",
       "      <td>female</td>\n",
       "      <td>29.070</td>\n",
       "      <td>0</td>\n",
       "      <td>yes</td>\n",
       "      <td>northwest</td>\n",
       "      <td>29141.36030</td>\n",
       "    </tr>\n",
       "  </tbody>\n",
       "</table>\n",
       "<p>1338 rows × 7 columns</p>\n",
       "</div>"
      ],
      "text/plain": [
       "      age     sex     bmi  children smoker     region      charges\n",
       "0      19  female  27.900         0    yes  southwest  16884.92400\n",
       "1      18    male  33.770         1     no  southeast   1725.55230\n",
       "2      28    male  33.000         3     no  southeast   4449.46200\n",
       "3      33    male  22.705         0     no  northwest  21984.47061\n",
       "4      32    male  28.880         0     no  northwest   3866.85520\n",
       "...   ...     ...     ...       ...    ...        ...          ...\n",
       "1333   50    male  30.970         3     no  northwest  10600.54830\n",
       "1334   18  female  31.920         0     no  northeast   2205.98080\n",
       "1335   18  female  36.850         0     no  southeast   1629.83350\n",
       "1336   21  female  25.800         0     no  southwest   2007.94500\n",
       "1337   61  female  29.070         0    yes  northwest  29141.36030\n",
       "\n",
       "[1338 rows x 7 columns]"
      ]
     },
     "execution_count": 5,
     "metadata": {},
     "output_type": "execute_result"
    }
   ],
   "source": [
    "con = sqlite3.connect('my_data.db')\n",
    "cur = con.cursor()\n",
    "\n",
    "data = pd.read_sql('''SELECT * FROM insurance''', con)\n",
    "data\n",
    "#cmd = '''SELECT * FROM insurance'''\n",
    "#cur.execute(cmd)\n",
    "#ret = cur.fetchall()\n",
    "#''' The fetchall() method returns an array of tuples. '''\n",
    "#ret"
   ]
  },
  {
   "cell_type": "markdown",
   "id": "697a2abe",
   "metadata": {},
   "source": [
    "## Regression model with insurance data\n",
    "\n",
    "In this section, we developed a deep neural network to predict cost from health insurance claims records.This model intend to predict the value of the insurance cover charges based on factors like age, sex, number of children among others. We used the data obtained from the datadase in the pevious section. The data was earlier stored in a padandas dataframe data. \n",
    "\n",
    "The original data had 1338 rows, and 7 main colunms. When duplicates were droped, there were 1337 rows. No missing values were found in the data.\n",
    "\n",
    "From the plots, a general trend of the insurance charges increses with increase in Age is visible.\n"
   ]
  },
  {
   "cell_type": "code",
   "execution_count": 6,
   "id": "96cf8716",
   "metadata": {},
   "outputs": [
    {
     "name": "stderr",
     "output_type": "stream",
     "text": [
      "2022-03-14 08:39:12.207341: W tensorflow/stream_executor/platform/default/dso_loader.cc:64] Could not load dynamic library 'libcudart.so.11.0'; dlerror: libcudart.so.11.0: cannot open shared object file: No such file or directory\n",
      "2022-03-14 08:39:12.207407: I tensorflow/stream_executor/cuda/cudart_stub.cc:29] Ignore above cudart dlerror if you do not have a GPU set up on your machine.\n"
     ]
    }
   ],
   "source": [
    "#importing libraries\n",
    "import keras\n",
    "import pandas as pd\n",
    "import numpy as np\n",
    "import seaborn as sns\n",
    "import matplotlib.pyplot as plt\n",
    "import tensorflow as tf\n",
    "from keras import layers\n",
    "from tensorflow.keras.losses import MeanSquaredError"
   ]
  },
  {
   "cell_type": "markdown",
   "id": "b89bba25",
   "metadata": {},
   "source": [
    "### EDA"
   ]
  },
  {
   "cell_type": "code",
   "execution_count": 7,
   "id": "d879fff5",
   "metadata": {},
   "outputs": [
    {
     "data": {
      "text/html": [
       "<div>\n",
       "<style scoped>\n",
       "    .dataframe tbody tr th:only-of-type {\n",
       "        vertical-align: middle;\n",
       "    }\n",
       "\n",
       "    .dataframe tbody tr th {\n",
       "        vertical-align: top;\n",
       "    }\n",
       "\n",
       "    .dataframe thead th {\n",
       "        text-align: right;\n",
       "    }\n",
       "</style>\n",
       "<table border=\"1\" class=\"dataframe\">\n",
       "  <thead>\n",
       "    <tr style=\"text-align: right;\">\n",
       "      <th></th>\n",
       "      <th>age</th>\n",
       "      <th>sex</th>\n",
       "      <th>bmi</th>\n",
       "      <th>children</th>\n",
       "      <th>smoker</th>\n",
       "      <th>region</th>\n",
       "      <th>charges</th>\n",
       "    </tr>\n",
       "  </thead>\n",
       "  <tbody>\n",
       "    <tr>\n",
       "      <th>0</th>\n",
       "      <td>19</td>\n",
       "      <td>female</td>\n",
       "      <td>27.900</td>\n",
       "      <td>0</td>\n",
       "      <td>yes</td>\n",
       "      <td>southwest</td>\n",
       "      <td>16884.92400</td>\n",
       "    </tr>\n",
       "    <tr>\n",
       "      <th>1</th>\n",
       "      <td>18</td>\n",
       "      <td>male</td>\n",
       "      <td>33.770</td>\n",
       "      <td>1</td>\n",
       "      <td>no</td>\n",
       "      <td>southeast</td>\n",
       "      <td>1725.55230</td>\n",
       "    </tr>\n",
       "    <tr>\n",
       "      <th>2</th>\n",
       "      <td>28</td>\n",
       "      <td>male</td>\n",
       "      <td>33.000</td>\n",
       "      <td>3</td>\n",
       "      <td>no</td>\n",
       "      <td>southeast</td>\n",
       "      <td>4449.46200</td>\n",
       "    </tr>\n",
       "    <tr>\n",
       "      <th>3</th>\n",
       "      <td>33</td>\n",
       "      <td>male</td>\n",
       "      <td>22.705</td>\n",
       "      <td>0</td>\n",
       "      <td>no</td>\n",
       "      <td>northwest</td>\n",
       "      <td>21984.47061</td>\n",
       "    </tr>\n",
       "    <tr>\n",
       "      <th>4</th>\n",
       "      <td>32</td>\n",
       "      <td>male</td>\n",
       "      <td>28.880</td>\n",
       "      <td>0</td>\n",
       "      <td>no</td>\n",
       "      <td>northwest</td>\n",
       "      <td>3866.85520</td>\n",
       "    </tr>\n",
       "  </tbody>\n",
       "</table>\n",
       "</div>"
      ],
      "text/plain": [
       "   age     sex     bmi  children smoker     region      charges\n",
       "0   19  female  27.900         0    yes  southwest  16884.92400\n",
       "1   18    male  33.770         1     no  southeast   1725.55230\n",
       "2   28    male  33.000         3     no  southeast   4449.46200\n",
       "3   33    male  22.705         0     no  northwest  21984.47061\n",
       "4   32    male  28.880         0     no  northwest   3866.85520"
      ]
     },
     "execution_count": 7,
     "metadata": {},
     "output_type": "execute_result"
    }
   ],
   "source": [
    "#looking into the data\n",
    "data.head(5) #data = pd.read_csv('insurance.csv')"
   ]
  },
  {
   "cell_type": "code",
   "execution_count": 8,
   "id": "a0b2eb00",
   "metadata": {},
   "outputs": [
    {
     "data": {
      "text/plain": [
       "(1338, 7)"
      ]
     },
     "execution_count": 8,
     "metadata": {},
     "output_type": "execute_result"
    }
   ],
   "source": [
    "#number if row in the dataset\n",
    "data.shape\n",
    "\n",
    "#there are 1337 rows in the dataset"
   ]
  },
  {
   "cell_type": "code",
   "execution_count": 7,
   "id": "8ce17d26",
   "metadata": {},
   "outputs": [
    {
     "data": {
      "text/plain": [
       "(1337, 7)"
      ]
     },
     "execution_count": 7,
     "metadata": {},
     "output_type": "execute_result"
    }
   ],
   "source": [
    "#cheaking for duplicate values\n",
    "data.drop_duplicates(inplace = True)\n",
    "data.shape\n",
    "\n",
    "# there was one duplicate value in data\n",
    "#the remaing data has 1337 rows"
   ]
  },
  {
   "cell_type": "code",
   "execution_count": 10,
   "id": "cc288a7b",
   "metadata": {},
   "outputs": [
    {
     "data": {
      "text/plain": [
       "age         0\n",
       "sex         0\n",
       "bmi         0\n",
       "children    0\n",
       "smoker      0\n",
       "region      0\n",
       "charges     0\n",
       "dtype: int64"
      ]
     },
     "execution_count": 10,
     "metadata": {},
     "output_type": "execute_result"
    }
   ],
   "source": [
    "#cheaking for nall values\n",
    "data.isna().sum()\n",
    "\n",
    "#the data has no null values"
   ]
  },
  {
   "cell_type": "markdown",
   "id": "a78d5941",
   "metadata": {},
   "source": [
    "#### Statistical overview"
   ]
  },
  {
   "cell_type": "code",
   "execution_count": 11,
   "id": "5cfc12b2",
   "metadata": {},
   "outputs": [
    {
     "data": {
      "text/html": [
       "<div>\n",
       "<style scoped>\n",
       "    .dataframe tbody tr th:only-of-type {\n",
       "        vertical-align: middle;\n",
       "    }\n",
       "\n",
       "    .dataframe tbody tr th {\n",
       "        vertical-align: top;\n",
       "    }\n",
       "\n",
       "    .dataframe thead th {\n",
       "        text-align: right;\n",
       "    }\n",
       "</style>\n",
       "<table border=\"1\" class=\"dataframe\">\n",
       "  <thead>\n",
       "    <tr style=\"text-align: right;\">\n",
       "      <th></th>\n",
       "      <th>age</th>\n",
       "      <th>bmi</th>\n",
       "      <th>children</th>\n",
       "      <th>charges</th>\n",
       "    </tr>\n",
       "  </thead>\n",
       "  <tbody>\n",
       "    <tr>\n",
       "      <th>count</th>\n",
       "      <td>1337.000000</td>\n",
       "      <td>1337.000000</td>\n",
       "      <td>1337.000000</td>\n",
       "      <td>1337.000000</td>\n",
       "    </tr>\n",
       "    <tr>\n",
       "      <th>mean</th>\n",
       "      <td>39.222139</td>\n",
       "      <td>30.663452</td>\n",
       "      <td>1.095737</td>\n",
       "      <td>13279.121487</td>\n",
       "    </tr>\n",
       "    <tr>\n",
       "      <th>std</th>\n",
       "      <td>14.044333</td>\n",
       "      <td>6.100468</td>\n",
       "      <td>1.205571</td>\n",
       "      <td>12110.359656</td>\n",
       "    </tr>\n",
       "    <tr>\n",
       "      <th>min</th>\n",
       "      <td>18.000000</td>\n",
       "      <td>15.960000</td>\n",
       "      <td>0.000000</td>\n",
       "      <td>1121.873900</td>\n",
       "    </tr>\n",
       "    <tr>\n",
       "      <th>25%</th>\n",
       "      <td>27.000000</td>\n",
       "      <td>26.290000</td>\n",
       "      <td>0.000000</td>\n",
       "      <td>4746.344000</td>\n",
       "    </tr>\n",
       "    <tr>\n",
       "      <th>50%</th>\n",
       "      <td>39.000000</td>\n",
       "      <td>30.400000</td>\n",
       "      <td>1.000000</td>\n",
       "      <td>9386.161300</td>\n",
       "    </tr>\n",
       "    <tr>\n",
       "      <th>75%</th>\n",
       "      <td>51.000000</td>\n",
       "      <td>34.700000</td>\n",
       "      <td>2.000000</td>\n",
       "      <td>16657.717450</td>\n",
       "    </tr>\n",
       "    <tr>\n",
       "      <th>max</th>\n",
       "      <td>64.000000</td>\n",
       "      <td>53.130000</td>\n",
       "      <td>5.000000</td>\n",
       "      <td>63770.428010</td>\n",
       "    </tr>\n",
       "  </tbody>\n",
       "</table>\n",
       "</div>"
      ],
      "text/plain": [
       "               age          bmi     children       charges\n",
       "count  1337.000000  1337.000000  1337.000000   1337.000000\n",
       "mean     39.222139    30.663452     1.095737  13279.121487\n",
       "std      14.044333     6.100468     1.205571  12110.359656\n",
       "min      18.000000    15.960000     0.000000   1121.873900\n",
       "25%      27.000000    26.290000     0.000000   4746.344000\n",
       "50%      39.000000    30.400000     1.000000   9386.161300\n",
       "75%      51.000000    34.700000     2.000000  16657.717450\n",
       "max      64.000000    53.130000     5.000000  63770.428010"
      ]
     },
     "execution_count": 11,
     "metadata": {},
     "output_type": "execute_result"
    }
   ],
   "source": [
    "#the statistical view of the data\n",
    "data.describe()"
   ]
  },
  {
   "cell_type": "code",
   "execution_count": 7,
   "id": "4ef31989",
   "metadata": {},
   "outputs": [
    {
     "name": "stdout",
     "output_type": "stream",
     "text": [
      "<class 'pandas.core.frame.DataFrame'>\n",
      "RangeIndex: 1338 entries, 0 to 1337\n",
      "Data columns (total 7 columns):\n",
      "age         1338 non-null int64\n",
      "sex         1338 non-null object\n",
      "bmi         1338 non-null float64\n",
      "children    1338 non-null int64\n",
      "smoker      1338 non-null object\n",
      "region      1338 non-null object\n",
      "charges     1338 non-null float64\n",
      "dtypes: float64(2), int64(2), object(3)\n",
      "memory usage: 73.3+ KB\n"
     ]
    }
   ],
   "source": [
    "#cheaking for the information of the data\n",
    "data.info()"
   ]
  },
  {
   "cell_type": "code",
   "execution_count": 12,
   "id": "09b73712",
   "metadata": {},
   "outputs": [
    {
     "data": {
      "text/plain": [
       "<seaborn.axisgrid.PairGrid at 0x7fc854f9b400>"
      ]
     },
     "execution_count": 12,
     "metadata": {},
     "output_type": "execute_result"
    },
    {
     "data": {
      "image/png": "[encoded data removed]",
      "text/plain": [
       "<Figure size 720x720 with 20 Axes>"
      ]
     },
     "metadata": {
      "needs_background": "light"
     },
     "output_type": "display_data"
    }
   ],
   "source": [
    "sns.pairplot(data[['charges', 'age', 'bmi', 'children']], diag_kind='kde')"
   ]
  },
  {
   "cell_type": "markdown",
   "id": "b98cf0fb",
   "metadata": {},
   "source": [
    "### Preparing the data for trainig\n",
    "\n",
    "Since the colunms sex, smoker and region are categorical values, we encoded them using the get_dummies function. We splited the data into traing and testing datasets. We trained our model on the training dataset and the test dataset was used to evaluate the model(Predict ‘y’ variable). The features and lables to be used for model training were obtained. The test_size contained 20% of the data and the rest was utilized as the training set."
   ]
  },
  {
   "cell_type": "code",
   "execution_count": 8,
   "id": "e0f16b84",
   "metadata": {},
   "outputs": [
    {
     "data": {
      "text/html": [
       "<div>\n",
       "<style scoped>\n",
       "    .dataframe tbody tr th:only-of-type {\n",
       "        vertical-align: middle;\n",
       "    }\n",
       "\n",
       "    .dataframe tbody tr th {\n",
       "        vertical-align: top;\n",
       "    }\n",
       "\n",
       "    .dataframe thead th {\n",
       "        text-align: right;\n",
       "    }\n",
       "</style>\n",
       "<table border=\"1\" class=\"dataframe\">\n",
       "  <thead>\n",
       "    <tr style=\"text-align: right;\">\n",
       "      <th></th>\n",
       "      <th>age</th>\n",
       "      <th>sex</th>\n",
       "      <th>bmi</th>\n",
       "      <th>children</th>\n",
       "      <th>smoker</th>\n",
       "      <th>region</th>\n",
       "      <th>charges</th>\n",
       "    </tr>\n",
       "  </thead>\n",
       "  <tbody>\n",
       "    <tr>\n",
       "      <th>0</th>\n",
       "      <td>19</td>\n",
       "      <td>female</td>\n",
       "      <td>27.900</td>\n",
       "      <td>0</td>\n",
       "      <td>yes</td>\n",
       "      <td>southwest</td>\n",
       "      <td>16884.92400</td>\n",
       "    </tr>\n",
       "    <tr>\n",
       "      <th>1</th>\n",
       "      <td>18</td>\n",
       "      <td>male</td>\n",
       "      <td>33.770</td>\n",
       "      <td>1</td>\n",
       "      <td>no</td>\n",
       "      <td>southeast</td>\n",
       "      <td>1725.55230</td>\n",
       "    </tr>\n",
       "    <tr>\n",
       "      <th>2</th>\n",
       "      <td>28</td>\n",
       "      <td>male</td>\n",
       "      <td>33.000</td>\n",
       "      <td>3</td>\n",
       "      <td>no</td>\n",
       "      <td>southeast</td>\n",
       "      <td>4449.46200</td>\n",
       "    </tr>\n",
       "    <tr>\n",
       "      <th>3</th>\n",
       "      <td>33</td>\n",
       "      <td>male</td>\n",
       "      <td>22.705</td>\n",
       "      <td>0</td>\n",
       "      <td>no</td>\n",
       "      <td>northwest</td>\n",
       "      <td>21984.47061</td>\n",
       "    </tr>\n",
       "    <tr>\n",
       "      <th>4</th>\n",
       "      <td>32</td>\n",
       "      <td>male</td>\n",
       "      <td>28.880</td>\n",
       "      <td>0</td>\n",
       "      <td>no</td>\n",
       "      <td>northwest</td>\n",
       "      <td>3866.85520</td>\n",
       "    </tr>\n",
       "  </tbody>\n",
       "</table>\n",
       "</div>"
      ],
      "text/plain": [
       "   age     sex     bmi  children smoker     region      charges\n",
       "0   19  female  27.900         0    yes  southwest  16884.92400\n",
       "1   18    male  33.770         1     no  southeast   1725.55230\n",
       "2   28    male  33.000         3     no  southeast   4449.46200\n",
       "3   33    male  22.705         0     no  northwest  21984.47061\n",
       "4   32    male  28.880         0     no  northwest   3866.85520"
      ]
     },
     "execution_count": 8,
     "metadata": {},
     "output_type": "execute_result"
    }
   ],
   "source": [
    "#one_hot encode categorrical values\n",
    "df_data = pd.get_dummies(data, columns=['sex', 'smoker', 'region'], prefix='', prefix_sep='')\n",
    "'''\n",
    "Convert categorical variable into dummy/indicator variables.\n",
    "\n",
    "\n",
    "Parameters\n",
    "-----------\n",
    "\n",
    "    data: array-like, Series, or DataFrame : \n",
    "         Data of which to get dummy indicators.\n",
    "            \n",
    "    prefix :str, list of str, or dict of str, default None\n",
    "        String to append DataFrame column names. \n",
    "        Pass a list with length equal to the number of columns when calling get_dummies on a DataFrame. \n",
    "        Alternatively, prefix can be a dictionary mapping column names to prefixes.\n",
    "    prefix_sep: str, default ‘_’\n",
    "        If appending prefix, separator/delimiter to use. \n",
    "        Or pass a list or dictionary as with prefix.\n",
    "        \n",
    "    columns: list-like, default None\n",
    "        Column names in the DataFrame to be encoded. \n",
    "        If columns is None then all the columns with object or category dtype will be converted.\n",
    "        \n",
    "Returns\n",
    "-------\n",
    "\n",
    "    DataFrame: Dummy-coded data.\n",
    "'''\n",
    "data.head()\n",
    "\n",
    "#if the value were integers, we will use data['colunm']= data['colunm'].map({1:a, 2:b}), before hot_encoding\n"
   ]
  },
  {
   "cell_type": "code",
   "execution_count": 9,
   "id": "9b704b26",
   "metadata": {},
   "outputs": [],
   "source": [
    "# spliting the data into traing (0.8) and validation sets(0.2)\n",
    "train_data = df_data.sample(frac=0.8, random_state=0)\n",
    "test_data = df_data.drop(train_data.index)\n"
   ]
  },
  {
   "cell_type": "code",
   "execution_count": 10,
   "id": "cb22796b",
   "metadata": {},
   "outputs": [
    {
     "name": "stdout",
     "output_type": "stream",
     "text": [
      "1070\n",
      "267\n",
      "1337\n"
     ]
    }
   ],
   "source": [
    "#check the number of records for both training dataset and testing dataset\n",
    "print(len(train_data) )# 1070\n",
    "print(len(test_data)) # 267\n",
    "print(len(df_data)) # 1337"
   ]
  },
  {
   "cell_type": "code",
   "execution_count": 11,
   "id": "f8e3b049",
   "metadata": {},
   "outputs": [
    {
     "data": {
      "text/plain": [
       "1248     1633.96180\n",
       "610      8547.69130\n",
       "393      9290.13950\n",
       "503     32548.34050\n",
       "198      9644.25250\n",
       "           ...     \n",
       "147      9877.60770\n",
       "160     21348.70600\n",
       "751      1906.35825\n",
       "860     46113.51100\n",
       "953     38998.54600\n",
       "Name: charges, Length: 1070, dtype: float64"
      ]
     },
     "execution_count": 11,
     "metadata": {},
     "output_type": "execute_result"
    }
   ],
   "source": [
    "#dataset lables\n",
    "train_labels = train_data['charges']\n",
    "test_labels = test_data['charges']\n",
    "train_labels"
   ]
  },
  {
   "cell_type": "code",
   "execution_count": 12,
   "id": "b0a319d6",
   "metadata": {},
   "outputs": [],
   "source": [
    "#make a copy of the train and test data\n",
    "train_features = train_data.copy()\n",
    "test_features = test_data.copy()\n",
    "\n",
    "#data features\n",
    "train_feature = train_features.drop('charges', axis=1, inplace=True)\n",
    "test_feature = test_features.drop('charges', axis=1, inplace=True)\n",
    "train_feature\n"
   ]
  },
  {
   "cell_type": "markdown",
   "id": "070e3c4c",
   "metadata": {},
   "source": [
    "### Normalization\n",
    "\n",
    "Normalizing features that use different scales and ranges is a good practice. For the normalization, tf.keras.layers.Normalization was used, because of its clean and simple way of adding feature normalization into the model. "
   ]
  },
  {
   "cell_type": "code",
   "execution_count": 13,
   "id": "bc189e8d",
   "metadata": {},
   "outputs": [],
   "source": [
    "# data normalization\n",
    "#creating the layer\n",
    "normalizer = tf.keras.layers.Normalization(axis=-1)\n"
   ]
  },
  {
   "cell_type": "code",
   "execution_count": 14,
   "id": "dfc3ca61",
   "metadata": {},
   "outputs": [
    {
     "name": "stderr",
     "output_type": "stream",
     "text": [
      "2022-03-14 08:40:16.255548: W tensorflow/stream_executor/platform/default/dso_loader.cc:64] Could not load dynamic library 'libcuda.so.1'; dlerror: libcuda.so.1: cannot open shared object file: No such file or directory\n",
      "2022-03-14 08:40:16.255674: W tensorflow/stream_executor/cuda/cuda_driver.cc:269] failed call to cuInit: UNKNOWN ERROR (303)\n",
      "2022-03-14 08:40:16.255738: I tensorflow/stream_executor/cuda/cuda_diagnostics.cc:156] kernel driver does not appear to be running on this host (marcelina-PC): /proc/driver/nvidia/version does not exist\n",
      "2022-03-14 08:40:16.256349: I tensorflow/core/platform/cpu_feature_guard.cc:151] This TensorFlow binary is optimized with oneAPI Deep Neural Network Library (oneDNN) to use the following CPU instructions in performance-critical operations:  FMA\n",
      "To enable them in other operations, rebuild TensorFlow with the appropriate compiler flags.\n"
     ]
    }
   ],
   "source": [
    "#fit the state of the preprocessing layer to the data with Normalization.adapt\n",
    "normalizer.adapt(np.array(train_features))\n"
   ]
  },
  {
   "cell_type": "code",
   "execution_count": 15,
   "id": "42c17e38",
   "metadata": {},
   "outputs": [
    {
     "name": "stdout",
     "output_type": "stream",
     "text": [
      "First example: [[18.   39.82  0.    1.    0.    1.    0.    0.    0.    1.    0.  ]]\n",
      "\n",
      "Normalized: [[-1.51  1.5  -0.91  1.   -1.    0.5  -0.5  -0.58 -0.56  1.62 -0.56]]\n"
     ]
    }
   ],
   "source": [
    "first = np.array(train_features[:1])\n",
    "\n",
    "with np.printoptions(precision=2, suppress=True):\n",
    "  print('First example:', first)\n",
    "  print()\n",
    "  print('Normalized:', normalizer(first).numpy())\n"
   ]
  },
  {
   "cell_type": "markdown",
   "id": "ca330119",
   "metadata": {},
   "source": [
    "### DNN Regression Model\n",
    "\n",
    "We trained a deep leaning model with four layers. The 'relu' activation function was used in the deep connected layers. The optimizer was Adams with a learning rate of 0.001. Callbacks and early stopping were used to aviod overfitting. The early model had three layers, the results were not diffent form those obtained in this model."
   ]
  },
  {
   "cell_type": "code",
   "execution_count": 16,
   "id": "e8667375",
   "metadata": {},
   "outputs": [],
   "source": [
    "#model creation function\n",
    "def build_and_compile_model(norm):\n",
    "  model = keras.Sequential([\n",
    "      norm,\n",
    "      layers.Dense(64, activation='relu'),\n",
    "      layers.Dense(64, activation='relu'),\n",
    "      layers.Dense(64, activation='relu'),\n",
    "      layers.Dense(1)\n",
    "  ])\n",
    "\n",
    "\n",
    "  model.compile(loss= 'MeanSquaredError',#'mean_absolute_error',\n",
    "                optimizer=tf.keras.optimizers.Adam(0.001))\n",
    "  return model\n",
    "\n",
    "#tf.keras.losses.MeanSquaredError\n",
    "#tf.keras.losses.MeanAbsoluteError"
   ]
  },
  {
   "cell_type": "code",
   "execution_count": 18,
   "id": "f5826c12",
   "metadata": {},
   "outputs": [
    {
     "name": "stdout",
     "output_type": "stream",
     "text": [
      "Model: \"sequential\"\n",
      "_________________________________________________________________\n",
      " Layer (type)                Output Shape              Param #   \n",
      "=================================================================\n",
      " normalization (Normalizatio  (None, 11)               23        \n",
      " n)                                                              \n",
      "                                                                 \n",
      " dense (Dense)               (None, 64)                768       \n",
      "                                                                 \n",
      " dense_1 (Dense)             (None, 64)                4160      \n",
      "                                                                 \n",
      " dense_2 (Dense)             (None, 64)                4160      \n",
      "                                                                 \n",
      " dense_3 (Dense)             (None, 1)                 65        \n",
      "                                                                 \n",
      "=================================================================\n",
      "Total params: 9,176\n",
      "Trainable params: 9,153\n",
      "Non-trainable params: 23\n",
      "_________________________________________________________________\n"
     ]
    }
   ],
   "source": [
    "# model summary\n",
    "dnn_model = build_and_compile_model(normalizer)\n",
    "dnn_model.summary()\n",
    "\n",
    "#tf.keras.utils.plot_model(Ubiquant_model(),show_shapes=True,expand_nested=True)\n"
   ]
  },
  {
   "cell_type": "code",
   "execution_count": 19,
   "id": "91e1d070",
   "metadata": {},
   "outputs": [
    {
     "name": "stdout",
     "output_type": "stream",
     "text": [
      "CPU times: user 21.6 s, sys: 806 ms, total: 22.4 s\n",
      "Wall time: 23.7 s\n"
     ]
    }
   ],
   "source": [
    "%%time\n",
    "#fitting the model with data\n",
    "#include callbacks and early stoping\n",
    "\n",
    "\n",
    "callbacks = tf.keras.callbacks.ModelCheckpoint('best_model.h5', save_best_only = True)\n",
    "early_stop = tf.keras.callbacks.EarlyStopping(patience=10)\n",
    "    \n",
    "history = dnn_model.fit(\n",
    "    train_features,\n",
    "    train_labels,\n",
    "    callbacks = [callbacks,early_stop],\n",
    "    validation_split=0.2,\n",
    "    verbose=0, epochs=120)\n"
   ]
  },
  {
   "cell_type": "code",
   "execution_count": 20,
   "id": "4ef0e457",
   "metadata": {},
   "outputs": [],
   "source": [
    "def plot_loss(history):\n",
    "  plt.plot(history.history['loss'], label='loss')\n",
    "  plt.plot(history.history['val_loss'], label='val_loss')\n",
    "  #plt.ylim([0, 10])\n",
    "  plt.xlabel('Epoch')\n",
    "  plt.ylabel('MeanSquaredError [charges]')\n",
    "  plt.legend()\n",
    "  plt.grid(True)\n"
   ]
  },
  {
   "cell_type": "code",
   "execution_count": 21,
   "id": "93c3c08f",
   "metadata": {},
   "outputs": [
    {
     "data": {
      "image/png": "[encoded data removed]",
      "text/plain": [
       "<Figure size 432x288 with 1 Axes>"
      ]
     },
     "metadata": {
      "needs_background": "light"
     },
     "output_type": "display_data"
    }
   ],
   "source": [
    "#ploting the loss funtion for each epoch\n",
    "plot_loss(history)"
   ]
  },
  {
   "cell_type": "markdown",
   "id": "95642176",
   "metadata": {},
   "source": [
    "Collect the results on the test set"
   ]
  },
  {
   "cell_type": "code",
   "execution_count": 22,
   "id": "47a9686f",
   "metadata": {},
   "outputs": [],
   "source": [
    "#saving the test results\n",
    "test_results = {}\n",
    "\n",
    "test_results['dnn_model'] = dnn_model.evaluate(test_features, test_labels, verbose=0)"
   ]
  },
  {
   "cell_type": "code",
   "execution_count": 23,
   "id": "776b0cc1",
   "metadata": {},
   "outputs": [
    {
     "data": {
      "text/html": [
       "<div>\n",
       "<style scoped>\n",
       "    .dataframe tbody tr th:only-of-type {\n",
       "        vertical-align: middle;\n",
       "    }\n",
       "\n",
       "    .dataframe tbody tr th {\n",
       "        vertical-align: top;\n",
       "    }\n",
       "\n",
       "    .dataframe thead th {\n",
       "        text-align: right;\n",
       "    }\n",
       "</style>\n",
       "<table border=\"1\" class=\"dataframe\">\n",
       "  <thead>\n",
       "    <tr style=\"text-align: right;\">\n",
       "      <th></th>\n",
       "      <th>Mean absolute error [charges]</th>\n",
       "    </tr>\n",
       "  </thead>\n",
       "  <tbody>\n",
       "    <tr>\n",
       "      <th>dnn_model</th>\n",
       "      <td>26841770.0</td>\n",
       "    </tr>\n",
       "  </tbody>\n",
       "</table>\n",
       "</div>"
      ],
      "text/plain": [
       "           Mean absolute error [charges]\n",
       "dnn_model                     26841770.0"
      ]
     },
     "execution_count": 23,
     "metadata": {},
     "output_type": "execute_result"
    }
   ],
   "source": [
    "#viewing the test set perfomance\n",
    "pd.DataFrame(test_results, index=['Mean absolute error [charges]']).T"
   ]
  },
  {
   "cell_type": "markdown",
   "id": "41cf401f",
   "metadata": {},
   "source": [
    "### Making predictions"
   ]
  },
  {
   "cell_type": "code",
   "execution_count": 24,
   "id": "47a9791d",
   "metadata": {},
   "outputs": [
    {
     "data": {
      "text/plain": [
       "Text(0, 0.5, 'Predictions [charges]')"
      ]
     },
     "execution_count": 24,
     "metadata": {},
     "output_type": "execute_result"
    },
    {
     "data": {
      "image/png": "[encoded data removed]",
      "text/plain": [
       "<Figure size 432x288 with 1 Axes>"
      ]
     },
     "metadata": {
      "needs_background": "light"
     },
     "output_type": "display_data"
    }
   ],
   "source": [
    "#making prediction of the charges with the model.predict fuction\n",
    "test_predictions = dnn_model.predict(test_features).flatten()\n",
    "\n",
    "a = plt.axes(aspect='equal')\n",
    "plt.scatter(test_labels, test_predictions)\n",
    "plt.xlabel('True Values [charges]')\n",
    "plt.ylabel('Predictions [charges]')\n",
    "#lims = [0, 50]\n",
    "#plt.xlim(lims)\n",
    "#plt.ylim(lims)\n",
    "#_ = plt.plot(lims, lims)\n"
   ]
  },
  {
   "cell_type": "code",
   "execution_count": 25,
   "id": "2116f3f7",
   "metadata": {},
   "outputs": [
    {
     "data": {
      "image/png": "[encoded data removed]",
      "text/plain": [
       "<Figure size 432x288 with 1 Axes>"
      ]
     },
     "metadata": {
      "needs_background": "light"
     },
     "output_type": "display_data"
    }
   ],
   "source": [
    "#cheaing the eror distribution\n",
    "error = test_predictions - test_labels\n",
    "plt.hist(error, bins=25)\n",
    "plt.xlabel('Prediction Error [charges]')\n",
    "_ = plt.ylabel('Count')\n"
   ]
  },
  {
   "cell_type": "code",
   "execution_count": 44,
   "id": "a1b7b1d7",
   "metadata": {},
   "outputs": [
    {
     "name": "stderr",
     "output_type": "stream",
     "text": [
      "2022-03-13 23:22:25.961511: W tensorflow/python/util/util.cc:368] Sets are not currently considered sequences, but this may change in the future, so consider avoiding using them.\n"
     ]
    },
    {
     "name": "stdout",
     "output_type": "stream",
     "text": [
      "INFO:tensorflow:Assets written to: dnn_model/assets\n"
     ]
    }
   ],
   "source": [
    "#dnn_model.save('dnn_model')"
   ]
  },
  {
   "cell_type": "code",
   "execution_count": 26,
   "id": "67f83937",
   "metadata": {},
   "outputs": [
    {
     "data": {
      "text/plain": [
       "{'dnn_model': 26841770.0, 'reloaded': 26841770.0}"
      ]
     },
     "execution_count": 26,
     "metadata": {},
     "output_type": "execute_result"
    }
   ],
   "source": [
    "#reloading the model\n",
    "reloaded = tf.keras.models.load_model('dnn_model')\n",
    "\n",
    "test_results['reloaded'] = dnn_model.evaluate(\n",
    "    test_features, test_labels, verbose=0)\n",
    "\n",
    "test_results"
   ]
  },
  {
   "cell_type": "markdown",
   "id": "480fad9b",
   "metadata": {},
   "source": [
    "Note: When numeric input data features have values with different ranges, each feature should be scaled independently to the same range.\n",
    "\n",
    "The new saved cvs file was to be used in the dashboard file to deploy the interactive dashboard."
   ]
  },
  {
   "cell_type": "code",
   "execution_count": 21,
   "id": "01192712",
   "metadata": {},
   "outputs": [],
   "source": [
    "#saving the cleaned data into a csv file to be used when creating the dashboard.\n",
    "data.to_csv('insurance_new.csv')\n",
    "#df = pd.read_csv('insurance_new.csv')\n",
    "#df.shape"
   ]
  },
  {
   "cell_type": "code",
   "execution_count": 27,
   "id": "4cd3f7e3",
   "metadata": {},
   "outputs": [],
   "source": [
    "#clossing the connection with the database\n",
    "con.commit()\n",
    "cur.close()\n",
    "con.close()"
   ]
  },
  {
   "cell_type": "markdown",
   "id": "d40b6e91",
   "metadata": {},
   "source": [
    "## Dashboard with dash\n",
    "\n",
    "Below, we created a file that was used to deploy an interactive dashboard with our data. The dashboard was build with dash library.\n",
    "\n",
    "We included a number of componets in the dashboard. We had three dropdowns for the gender(sex) selection, smoking status, and number of children covered. Container texts and a graph of insurance charges verses age for the respective selected groups were added. The scatter points sizes were plotted with respect to the body mass index(bmi). \n",
    "\n",
    "The dashboard created is an interactive tool to allow visulization of the relationship between insurance charges and age for the selected group. The group is determined by the parameters selected in the dropdowns.\n",
    "\n",
    "From the visualization of the data in the dashboard, despite factors like age, bmi or number of children having an influence in the medical charges, the smoking classes have more influence. The non smokers pay less than the smoking patients. "
   ]
  },
  {
   "cell_type": "code",
   "execution_count": 50,
   "id": "d89dece3",
   "metadata": {},
   "outputs": [
    {
     "name": "stdout",
     "output_type": "stream",
     "text": [
      "Overwriting app.py\n"
     ]
    }
   ],
   "source": [
    "%%writefile app.py \n",
    "\n",
    "# Run this app with `python app.py` and\n",
    "# visit http://127.0.0.1:8050/ in your web browser.\n",
    "\n",
    "from dash import Dash, dcc, html, Input, Output\n",
    "import plotly.express as px\n",
    "import pandas as pd\n",
    "\n",
    "app = Dash(__name__)\n",
    "\n",
    "# importing the data\n",
    "df = pd.read_csv('insurance_new.csv')\n",
    "df.shape\n",
    "\n",
    "\n",
    "# app layout\n",
    "# App layout\n",
    "app.layout = html.Div([\n",
    "\n",
    "    html.H1(\"Insurance Cost\", style={'text-align': 'center'}),\n",
    "\n",
    "    html.Label('Sex'),\n",
    "    dcc.Dropdown(id=\"select_sex\",\n",
    "                 options=[\n",
    "                     {\"label\": \"female\", \"value\": \"female\"},\n",
    "                     {\"label\": \"male\", \"value\": \"male\"}],\n",
    "                 multi=False,\n",
    "                 value=\"female\",\n",
    "                 style={'width': \"40%\"}\n",
    "                 ),\n",
    "    html.Div(id='output_container1', children=[]),\n",
    "    html.Br(),\n",
    "\n",
    "    html.Label('Smoker'),\n",
    "    dcc.Dropdown(id=\"select_smoker\",\n",
    "                 options=[\n",
    "                     {\"label\": \"no\", \"value\": \"no\"},\n",
    "                     {\"label\": \"yes\", \"value\": \"yes\"}],\n",
    "                 multi=False,\n",
    "                 value=\"no\",\n",
    "                 style={'width': \"40%\"}\n",
    "                 ),\n",
    "\n",
    "    html.Div(id='output_container2', children=[]),\n",
    "    html.Br(),\n",
    "    \n",
    "    html.Label('No_Children'),\n",
    "    dcc.Dropdown(id=\"select_children\",\n",
    "                 options=[\n",
    "                     {\"label\": \"0\", \"value\": 0},\n",
    "                     {\"label\": \"1\", \"value\": 1},\n",
    "                     {\"label\": \"2\", \"value\": 2},\n",
    "                     {\"label\": \"3\", \"value\": 3},\n",
    "                     {\"label\": \"4\", \"value\": 4},\n",
    "                     {\"label\": \"5\", \"value\": 5}],\n",
    "                 multi=False,\n",
    "                 value=0,\n",
    "                 style={'width': \"40%\"}\n",
    "                 ),\n",
    "\n",
    "\n",
    "    html.Div(id='output_container3', children=[]),\n",
    "    html.Br(),\n",
    "\n",
    "    dcc.Graph(id='insurance_graph', figure={})\n",
    "\n",
    "])\n",
    "\n",
    "\n",
    "# Connect the Plotly graphs with Dash Components\n",
    "@app.callback(\n",
    "    [Output(component_id='output_container1', component_property='children'),\n",
    "     Output(component_id='output_container2', component_property='children'),\n",
    "     Output(component_id='output_container3', component_property='children'),\n",
    "     Output(component_id='insurance_graph', component_property='figure')],\n",
    "    [Input(component_id='select_sex', component_property='value'),\n",
    "     Input(component_id='select_smoker', component_property='value'),\n",
    "     Input(component_id='select_children', component_property='value')]\n",
    ")\n",
    "def update_graph(option_slctd,smoker_selected, children_selected):\n",
    "    \n",
    "    container1 = \"The gender chosen by user was: {}\".format(option_slctd)\n",
    "    container2 = \"The smoking status chosen by user was: {}\".format(smoker_selected)\n",
    "    container3 = \"The number of chilren chosen by user was: {}\".format(children_selected)\n",
    "    \n",
    "\n",
    "    dff = df.copy()\n",
    "    dff = dff[dff[\"sex\"] == option_slctd]\n",
    "    dff = dff[dff[\"smoker\"] == smoker_selected]\n",
    "    dff = dff[dff[\"children\"] == children_selected]\n",
    "\n",
    "   \n",
    "    \n",
    "\n",
    "    fig = px.scatter(dff, x=\"age\", y=\"charges\",\n",
    "                size=\"bmi\", color=\"region\")\n",
    "    \n",
    "   \n",
    "    return container1,container2, container3, fig\n",
    "\n",
    "\n",
    "if __name__ == '__main__':\n",
    "    app.run_server(debug=True)"
   ]
  },
  {
   "cell_type": "markdown",
   "id": "111e48a5",
   "metadata": {},
   "source": [
    "### Limitations and Challeges\n",
    "\n",
    "Due to time constraints, we decided to train the model with all features in the datasets. A detailed visualization of the data was not provided. However, we used the dashboard created to obtain more insightfull information from the data. This approch was greet because, it allows users of the dashboard to gain both conclusive and inspiratinal information on the insurance costs.\n",
    "\n",
    "In future, we will try to improve the model perfomance and do a detailed data exploratory analysis."
   ]
  },
  {
   "cell_type": "code",
   "execution_count": null,
   "id": "98ce3d30",
   "metadata": {},
   "outputs": [],
   "source": []
  }
 ],
 "metadata": {
  "kernelspec": {
   "display_name": "Python 3 (ipykernel)",
   "language": "python",
   "name": "python3"
  },
  "language_info": {
   "codemirror_mode": {
    "name": "ipython",
    "version": 3
   },
   "file_extension": ".py",
   "mimetype": "text/x-python",
   "name": "python",
   "nbconvert_exporter": "python",
   "pygments_lexer": "ipython3",
   "version": "3.8.10"
  }
 },
 "nbformat": 4,
 "nbformat_minor": 5
}
